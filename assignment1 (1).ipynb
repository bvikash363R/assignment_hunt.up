{
 "cells": [
  {
   "cell_type": "raw",
   "id": "0dda27c7-4bed-4197-a6c7-83101919ae13",
   "metadata": {},
   "source": [
    "Q1. Create one variable containing following type of data:\n",
    "(i) string\n",
    "(ii) list\n",
    "(iii) float\n",
    "(iv) tuple"
   ]
  },
  {
   "cell_type": "code",
   "execution_count": 1,
   "id": "c16aa599-e5e4-44f7-b32a-18f04fa89cc7",
   "metadata": {},
   "outputs": [],
   "source": [
    "course = \"Data Science\"  #string\n",
    "l= list[1,3,4,\"pwskill\",\"dataScience\"]\n",
    "pi = 3.14\n",
    "t =(1,2,3,\"python\",[4,5,6],{\"course\":\"data science\"})\n"
   ]
  },
  {
   "cell_type": "code",
   "execution_count": 3,
   "id": "6830e3c8-bbee-4942-8f9d-4f505aea5b0a",
   "metadata": {},
   "outputs": [
    {
     "data": {
      "text/plain": [
       "'Data Science'"
      ]
     },
     "execution_count": 3,
     "metadata": {},
     "output_type": "execute_result"
    }
   ],
   "source": [
    "course"
   ]
  },
  {
   "cell_type": "code",
   "execution_count": 4,
   "id": "82508ec6-2698-451d-84eb-466a98764103",
   "metadata": {},
   "outputs": [
    {
     "data": {
      "text/plain": [
       "list[1, 3, 4, 'pwskill', 'dataScience']"
      ]
     },
     "execution_count": 4,
     "metadata": {},
     "output_type": "execute_result"
    }
   ],
   "source": [
    "l"
   ]
  },
  {
   "cell_type": "code",
   "execution_count": 5,
   "id": "4a640f4d-5788-4437-8c17-9445184027bf",
   "metadata": {},
   "outputs": [
    {
     "data": {
      "text/plain": [
       "3.14"
      ]
     },
     "execution_count": 5,
     "metadata": {},
     "output_type": "execute_result"
    }
   ],
   "source": [
    "pi"
   ]
  },
  {
   "cell_type": "code",
   "execution_count": 6,
   "id": "b1e821ca-43fd-4bcf-8fdd-9588a2b7238b",
   "metadata": {},
   "outputs": [
    {
     "data": {
      "text/plain": [
       "(1, 2, 3, 'python', [4, 5, 6], {'course': 'data science'})"
      ]
     },
     "execution_count": 6,
     "metadata": {},
     "output_type": "execute_result"
    }
   ],
   "source": [
    "t"
   ]
  },
  {
   "cell_type": "code",
   "execution_count": 7,
   "id": "a4d4ee35-8142-4111-875b-98e7100646cd",
   "metadata": {},
   "outputs": [
    {
     "data": {
      "text/plain": [
       "1"
      ]
     },
     "execution_count": 7,
     "metadata": {},
     "output_type": "execute_result"
    }
   ],
   "source": [
    "t[0]"
   ]
  },
  {
   "cell_type": "code",
   "execution_count": 9,
   "id": "a2f885e3-a7f8-49a3-bb85-bafdd7de68d9",
   "metadata": {},
   "outputs": [
    {
     "data": {
      "text/plain": [
       "{'course': 'data science'}"
      ]
     },
     "execution_count": 9,
     "metadata": {},
     "output_type": "execute_result"
    }
   ],
   "source": [
    "t[5]"
   ]
  },
  {
   "cell_type": "code",
   "execution_count": 11,
   "id": "a465f9c7-f359-47b2-8c7b-cd5941b9d9d6",
   "metadata": {},
   "outputs": [
    {
     "data": {
      "text/plain": [
       "{'course': 'data science'}"
      ]
     },
     "execution_count": 11,
     "metadata": {},
     "output_type": "execute_result"
    }
   ],
   "source": [
    "t[5]"
   ]
  },
  {
   "cell_type": "raw",
   "id": "586457dc-028f-43fe-b05e-062d98aebe8d",
   "metadata": {},
   "source": [
    "Q2. Given are some following variables containing data:\n",
    "(i) var1 = ‘ ‘\n",
    "(ii) var2 = ‘[ DS , ML , Python]’\n",
    "(iii) var3 = [ ‘DS’ , ’ML’ , ‘Python’ ]\n",
    "(iv) var4 = 1.\n",
    "What will be the data type of the above given variable."
   ]
  },
  {
   "cell_type": "code",
   "execution_count": 7,
   "id": "2807659a-7812-4c44-87cf-2a8a19d2fb03",
   "metadata": {},
   "outputs": [],
   "source": [
    "var1 = \" \""
   ]
  },
  {
   "cell_type": "code",
   "execution_count": 8,
   "id": "188d3cb5-fada-49a4-a366-dd41d86bd812",
   "metadata": {},
   "outputs": [
    {
     "ename": "NameError",
     "evalue": "name 'vari' is not defined",
     "output_type": "error",
     "traceback": [
      "\u001b[0;31m---------------------------------------------------------------------------\u001b[0m",
      "\u001b[0;31mNameError\u001b[0m                                 Traceback (most recent call last)",
      "Cell \u001b[0;32mIn [8], line 1\u001b[0m\n\u001b[0;32m----> 1\u001b[0m \u001b[38;5;28mtype\u001b[39m(\u001b[43mvari\u001b[49m)\n",
      "\u001b[0;31mNameError\u001b[0m: name 'vari' is not defined"
     ]
    }
   ],
   "source": [
    "type(vari)"
   ]
  },
  {
   "cell_type": "code",
   "execution_count": 10,
   "id": "d62358f5-7f5b-4988-bbe5-4490800c5c1b",
   "metadata": {},
   "outputs": [
    {
     "data": {
      "text/plain": [
       "str"
      ]
     },
     "execution_count": 10,
     "metadata": {},
     "output_type": "execute_result"
    }
   ],
   "source": [
    "var2 ='[DS, ML, Python]'\n",
    "type(var2)"
   ]
  },
  {
   "cell_type": "code",
   "execution_count": 11,
   "id": "d65a24fd-bd2c-4574-bf49-ebf76137c9d4",
   "metadata": {},
   "outputs": [
    {
     "data": {
      "text/plain": [
       "list"
      ]
     },
     "execution_count": 11,
     "metadata": {},
     "output_type": "execute_result"
    }
   ],
   "source": [
    "var3 = [\"DS\", \"ML\", \"Python\"]\n",
    "type(var3)"
   ]
  },
  {
   "cell_type": "code",
   "execution_count": 12,
   "id": "8e04d8a3-1003-4955-bb03-e9cea3aa7533",
   "metadata": {},
   "outputs": [
    {
     "data": {
      "text/plain": [
       "int"
      ]
     },
     "execution_count": 12,
     "metadata": {},
     "output_type": "execute_result"
    }
   ],
   "source": [
    "var4 = 1\n",
    "type(var4)"
   ]
  },
  {
   "cell_type": "raw",
   "id": "006e5971-72b3-4200-b848-a60f78f2d741",
   "metadata": {},
   "source": [
    "Q3. Explain the use of the following operators using an example:\n",
    "(i) /\n",
    "(ii) %\n",
    "(iii) //\n",
    "(iv) **"
   ]
  },
  {
   "cell_type": "code",
   "execution_count": 14,
   "id": "e78dfc2a-0238-4813-823d-7b3e60c0e965",
   "metadata": {},
   "outputs": [
    {
     "data": {
      "text/plain": [
       "3.3333333333333335"
      ]
     },
     "execution_count": 14,
     "metadata": {},
     "output_type": "execute_result"
    }
   ],
   "source": [
    "a = 10/3\n",
    "a"
   ]
  },
  {
   "cell_type": "code",
   "execution_count": 16,
   "id": "5e666f96-0a07-4448-9471-01ac69ca8ad8",
   "metadata": {},
   "outputs": [
    {
     "data": {
      "text/plain": [
       "3"
      ]
     },
     "execution_count": 16,
     "metadata": {},
     "output_type": "execute_result"
    }
   ],
   "source": [
    "a = 10//3\n",
    "a"
   ]
  },
  {
   "cell_type": "code",
   "execution_count": 18,
   "id": "8f958aea-7629-4e04-ba58-d9bfaf1c79aa",
   "metadata": {},
   "outputs": [
    {
     "data": {
      "text/plain": [
       "1"
      ]
     },
     "execution_count": 18,
     "metadata": {},
     "output_type": "execute_result"
    }
   ],
   "source": [
    "a = 10%3\n",
    "a"
   ]
  },
  {
   "cell_type": "code",
   "execution_count": 22,
   "id": "22fbdc37-b2f9-446b-93fd-144895a946ca",
   "metadata": {},
   "outputs": [
    {
     "data": {
      "text/plain": [
       "4"
      ]
     },
     "execution_count": 22,
     "metadata": {},
     "output_type": "execute_result"
    }
   ],
   "source": [
    "a = 2\n",
    "a = a**2\n",
    "a "
   ]
  },
  {
   "cell_type": "raw",
   "id": "9463ce90-f31d-4bc2-aeed-9f2c29d8c721",
   "metadata": {},
   "source": [
    "Q4. Create a list of length 10 of your choice containing multiple types of data. Using for loop print the\n",
    "element and its data type."
   ]
  },
  {
   "cell_type": "code",
   "execution_count": 9,
   "id": "6eddd70b-3e69-4da7-b0c5-6185a261a1f7",
   "metadata": {},
   "outputs": [],
   "source": [
    "l = [1, 4.6, 'pwskill', [1, 4, 5], True, {'key':'0000'}, (1, 3, 6, 9),{\"apple\",\"banana\",\"orange\"}, 7+9j,\"data science\"]"
   ]
  },
  {
   "cell_type": "code",
   "execution_count": 10,
   "id": "6971f5ce-69b0-4978-a50c-a2f578da227a",
   "metadata": {},
   "outputs": [
    {
     "name": "stdout",
     "output_type": "stream",
     "text": [
      "<class 'int'>\n",
      "<class 'float'>\n",
      "<class 'str'>\n",
      "<class 'list'>\n",
      "<class 'bool'>\n",
      "<class 'dict'>\n",
      "<class 'tuple'>\n",
      "<class 'set'>\n",
      "<class 'complex'>\n",
      "<class 'str'>\n"
     ]
    }
   ],
   "source": [
    "for i in l:\n",
    "    print(type(i))"
   ]
  },
  {
   "cell_type": "raw",
   "id": "d01745ae-4310-47b5-9891-e7ecd755a84e",
   "metadata": {},
   "source": [
    "Q5. Using a while loop, verify if the number A is purely divisible by number B and if so then how many\n",
    "times it can be divisible."
   ]
  },
  {
   "cell_type": "code",
   "execution_count": 5,
   "id": "c999441f-774a-4c46-bbcd-19188133db98",
   "metadata": {},
   "outputs": [
    {
     "data": {
      "text/plain": [
       "2"
      ]
     },
     "execution_count": 5,
     "metadata": {},
     "output_type": "execute_result"
    }
   ],
   "source": [
    "a =20\n",
    "b =2\n",
    "count = 0\n",
    "while a % b== 0:\n",
    "    a = a//b\n",
    "    count +=1\n",
    "    \n",
    "count"
   ]
  },
  {
   "cell_type": "raw",
   "id": "5137901f-17a1-47aa-887c-353ef0bd4429",
   "metadata": {},
   "source": [
    "Q6. Create a list containing 25 int type data. Using for loop and if-else condition print if the element is divisible by 3 or not."
   ]
  },
  {
   "cell_type": "code",
   "execution_count": 10,
   "id": "2030215f-87ee-4aa2-bb76-740771de7a75",
   "metadata": {},
   "outputs": [
    {
     "name": "stdout",
     "output_type": "stream",
     "text": [
      "number not is divisible by 3\n",
      "number not is divisible by 3\n",
      "number is divisible by 3\n",
      "number not is divisible by 3\n",
      "number not is divisible by 3\n",
      "number is divisible by 3\n",
      "number is divisible by 3\n",
      "number is divisible by 3\n",
      "number not is divisible by 3\n",
      "number not is divisible by 3\n",
      "number is divisible by 3\n",
      "number not is divisible by 3\n",
      "number is divisible by 3\n",
      "number not is divisible by 3\n",
      "number is divisible by 3\n",
      "number not is divisible by 3\n",
      "number not is divisible by 3\n",
      "number is divisible by 3\n",
      "number is divisible by 3\n",
      "number not is divisible by 3\n",
      "number not is divisible by 3\n",
      "number not is divisible by 3\n",
      "number is divisible by 3\n",
      "number not is divisible by 3\n",
      "number is divisible by 3\n"
     ]
    }
   ],
   "source": [
    "l = [1,2,3,4,5,6,78,90,43,67,12,89,9,79,54,23,29,27,36,35,44,43,42,56,57]\n",
    "\n",
    "for i in l:\n",
    "    if i%3==0:\n",
    "        print(\"number is divisible by 3\")\n",
    "    else:\n",
    "        print(\"number not is divisible by 3\")"
   ]
  },
  {
   "cell_type": "raw",
   "id": "54e374af-dc57-4e09-9bf3-d93e883808d7",
   "metadata": {},
   "source": [
    "Q7. What do you understand about mutable and immutable data types? Give examples for both showing\n",
    "this property."
   ]
  },
  {
   "cell_type": "markdown",
   "id": "12cfdc54-528d-41f5-b52d-b1e1c8c03fe5",
   "metadata": {},
   "source": [
    "Mutable and immutable data types are concepts in programming that refer to whether the values of a data type can be changed after they are created.\n",
    "\n",
    "1. Immutable Data Types:\n",
    "Immutable data types are those whose values cannot be changed or modified after they are created. Any operation that appears to modify an immutable data type actually creates a new object with the modified value. Immutable objects are safer to use because they are less prone to unintended side effects.\n",
    "\n",
    "Examples of immutable data types in Python include:\n",
    "- Integers\n",
    "- Floats\n",
    "- Strings\n",
    "- Tuples\n",
    "\n",
    "2. Mutable Data Types:\n",
    "Mutable data types are those whose values can be changed or modified after they are created. Any modification to a mutable object directly affects the original object.\n",
    "\n",
    "Examples of mutable data types in Python include:\n",
    "- Lists\n",
    "- Dictionaries\n",
    "- Sets"
   ]
  },
  {
   "cell_type": "code",
   "execution_count": 11,
   "id": "4859a720-fb5d-49aa-9e57-a1d65bf64a22",
   "metadata": {},
   "outputs": [
    {
     "ename": "TypeError",
     "evalue": "'tuple' object does not support item assignment",
     "output_type": "error",
     "traceback": [
      "\u001b[0;31m---------------------------------------------------------------------------\u001b[0m",
      "\u001b[0;31mTypeError\u001b[0m                                 Traceback (most recent call last)",
      "Cell \u001b[0;32mIn [11], line 6\u001b[0m\n\u001b[1;32m      2\u001b[0m my_tuple \u001b[38;5;241m=\u001b[39m (\u001b[38;5;241m1\u001b[39m, \u001b[38;5;241m2\u001b[39m, \u001b[38;5;241m3\u001b[39m)\n\u001b[1;32m      4\u001b[0m \u001b[38;5;66;03m# Attempt to modify the tuple\u001b[39;00m\n\u001b[1;32m      5\u001b[0m \u001b[38;5;66;03m# This will raise an error: 'tuple' object does not support item assignment\u001b[39;00m\n\u001b[0;32m----> 6\u001b[0m \u001b[43mmy_tuple\u001b[49m\u001b[43m[\u001b[49m\u001b[38;5;241;43m0\u001b[39;49m\u001b[43m]\u001b[49m \u001b[38;5;241m=\u001b[39m \u001b[38;5;241m10\u001b[39m\n",
      "\u001b[0;31mTypeError\u001b[0m: 'tuple' object does not support item assignment"
     ]
    }
   ],
   "source": [
    "# Create a tuple\n",
    "my_tuple = (1, 2, 3)\n",
    "\n",
    "# Attempt to modify the tuple\n",
    "# This will raise an error: 'tuple' object does not support item assignment\n",
    "my_tuple[0] = 10\n"
   ]
  },
  {
   "cell_type": "code",
   "execution_count": 12,
   "id": "a464d346-2416-448d-9372-25903270a193",
   "metadata": {},
   "outputs": [
    {
     "name": "stdout",
     "output_type": "stream",
     "text": [
      "[10, 2, 3]\n"
     ]
    }
   ],
   "source": [
    "# Create a list\n",
    "my_list = [1, 2, 3]\n",
    "\n",
    "# Modify the list\n",
    "my_list[0] = 10\n",
    "\n",
    "# The list has been changed\n",
    "print(my_list)\n"
   ]
  },
  {
   "cell_type": "code",
   "execution_count": null,
   "id": "93335ebc-746f-4564-9133-244b9afba6bf",
   "metadata": {},
   "outputs": [],
   "source": []
  }
 ],
 "metadata": {
  "kernelspec": {
   "display_name": "Python 3 (ipykernel)",
   "language": "python",
   "name": "python3"
  },
  "language_info": {
   "codemirror_mode": {
    "name": "ipython",
    "version": 3
   },
   "file_extension": ".py",
   "mimetype": "text/x-python",
   "name": "python",
   "nbconvert_exporter": "python",
   "pygments_lexer": "ipython3",
   "version": "3.10.6"
  }
 },
 "nbformat": 4,
 "nbformat_minor": 5
}
