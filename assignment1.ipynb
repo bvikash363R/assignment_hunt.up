{
  "nbformat": 4,
  "nbformat_minor": 0,
  "metadata": {
    "colab": {
      "provenance": []
    },
    "kernelspec": {
      "name": "python3",
      "display_name": "Python 3"
    },
    "language_info": {
      "name": "python"
    }
  },
  "cells": [
    {
      "cell_type": "markdown",
      "source": [
        "Q1. Write a Python program that defines a function called \"add_numbers\" that takes two\n",
        "arguments (i.e.,\n",
        "numbers) and returns their sum. Within the function, add the two numbers together and return\n",
        "the result\n",
        "using the return statement. Call the function with the values 5 and 6, and print out the returned\n",
        "result.\n",
        "This will result in the addition of 5 and 6, with the output of the program being the sum of these\n",
        "two\n",
        "numbers."
      ],
      "metadata": {
        "id": "aNJ9qUY3J1lQ"
      }
    },
    {
      "cell_type": "code",
      "source": [
        "def add_numbers(num1, num2):\n",
        "    return num1 + num2\n",
        "\n",
        "result = add_numbers(5, 6)\n",
        "print(result)"
      ],
      "metadata": {
        "colab": {
          "base_uri": "https://localhost:8080/"
        },
        "id": "xech_BqvOkEY",
        "outputId": "5189aaf5-45ca-49e8-ad1c-9a4f896c126e"
      },
      "execution_count": 10,
      "outputs": [
        {
          "output_type": "stream",
          "name": "stdout",
          "text": [
            "11\n"
          ]
        }
      ]
    },
    {
      "cell_type": "markdown",
      "source": [
        "2.Write a Python program that calculates the square root of a given number using a built-in function. Specifically, the program should take an integer or float input from the user, calculate its square root using the 'sqrt()' function from the 'math' module, and print out the result to the user. As an example, calculate the square root of the number 625 using this program, which should output the value of 25."
      ],
      "metadata": {
        "id": "Lpw-9gMFPJdu"
      }
    },
    {
      "cell_type": "code",
      "source": [
        "import math\n",
        "\n",
        "number = 625\n",
        "sqrt_number = math.sqrt(number)\n",
        "\n",
        "print(\"The square root of\", number, \"is\", sqrt_number)"
      ],
      "metadata": {
        "colab": {
          "base_uri": "https://localhost:8080/"
        },
        "id": "p5cAejb0O1w7",
        "outputId": "94418c27-d283-45ba-eceb-90e593aa393e"
      },
      "execution_count": 11,
      "outputs": [
        {
          "output_type": "stream",
          "name": "stdout",
          "text": [
            "The square root of 625 is 25.0\n"
          ]
        }
      ]
    },
    {
      "cell_type": "markdown",
      "source": [
        "3.Write a program that prints all prime numbers between 0 to 50."
      ],
      "metadata": {
        "id": "9K6FfbgNPOqs"
      }
    },
    {
      "cell_type": "code",
      "source": [
        "for number in range(2, 51):\n",
        "    is_prime = True\n",
        "    for i in range(2, number):\n",
        "        if number % i == 0:\n",
        "            is_prime = False\n",
        "            break\n",
        "    if is_prime:\n",
        "        print(number)"
      ],
      "metadata": {
        "colab": {
          "base_uri": "https://localhost:8080/"
        },
        "id": "C8JbXqfnPEyu",
        "outputId": "71b3f8b7-7c00-436f-ce42-0cb4d962d93a"
      },
      "execution_count": 12,
      "outputs": [
        {
          "output_type": "stream",
          "name": "stdout",
          "text": [
            "2\n",
            "3\n",
            "5\n",
            "7\n",
            "11\n",
            "13\n",
            "17\n",
            "19\n",
            "23\n",
            "29\n",
            "31\n",
            "37\n",
            "41\n",
            "43\n",
            "47\n"
          ]
        }
      ]
    },
    {
      "cell_type": "markdown",
      "source": [
        "4.How can we swap the values of three variables (let's say a, b, and c) without using a fourth variable? For example, if we have a=5, b=8, and c=9, how can we obtain a=9, b=5, and c=8? The challenge is to perform this operation without using an additional variable to store any of the values during the swapping process."
      ],
      "metadata": {
        "id": "5H9idFhgPkhC"
      }
    },
    {
      "cell_type": "code",
      "source": [
        "a = 5\n",
        "b = 8\n",
        "c = 9\n",
        "\n",
        "a, b, c = c, a, b\n",
        "\n",
        "print(\"a =\", a)\n",
        "print(\"b =\", b)\n",
        "print(\"c =\", c)"
      ],
      "metadata": {
        "colab": {
          "base_uri": "https://localhost:8080/"
        },
        "id": "T112-G5_Pd4m",
        "outputId": "211a6586-fb21-45cc-fbbf-b2fe859b4204"
      },
      "execution_count": 13,
      "outputs": [
        {
          "output_type": "stream",
          "name": "stdout",
          "text": [
            "a = 9\n",
            "b = 5\n",
            "c = 8\n"
          ]
        }
      ]
    },
    {
      "cell_type": "markdown",
      "source": [
        "5.Can you write a program that determines the nature of a given number\n",
        "(in this case, 87) as being positive, negative, or zero? The program should be designed to take the number as input and perform the necessary calculations to determine if the number is positive (i.e., greater than zero), negative (i.e., less than zero), or zero (i.e., equal to zero). The output of the program should indicate which of these three categories the given number falls into.\n",
        "\n",
        "\n",
        "\n"
      ],
      "metadata": {
        "id": "TtiUesRDPz2T"
      }
    },
    {
      "cell_type": "code",
      "source": [
        "num = 87\n",
        "\n",
        "if num > 0:\n",
        "    print(\"The number is positive.\")\n",
        "elif num < 0:\n",
        "    print(\"The number is negative.\")\n",
        "else:\n",
        "    print(\"The number is zero.\")"
      ],
      "metadata": {
        "colab": {
          "base_uri": "https://localhost:8080/"
        },
        "id": "I9UfgyMvPxj4",
        "outputId": "9502b6c5-e123-437c-9a2a-ad20d3991de5"
      },
      "execution_count": 14,
      "outputs": [
        {
          "output_type": "stream",
          "name": "stdout",
          "text": [
            "The number is positive.\n"
          ]
        }
      ]
    },
    {
      "cell_type": "code",
      "source": [],
      "metadata": {
        "id": "DtSGPMtDQRbA"
      },
      "execution_count": null,
      "outputs": []
    }
  ]
}