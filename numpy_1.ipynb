{
 "cells": [
  {
   "cell_type": "markdown",
   "id": "d7fef0a0-e236-4c6d-a4eb-fb85647760ec",
   "metadata": {
    "tags": []
   },
   "source": [
    "# Consider the below code to answer further questions:"
   ]
  },
  {
   "cell_type": "code",
   "execution_count": 1,
   "id": "c07c40a7-b973-438d-8c4c-847d4b3c809f",
   "metadata": {},
   "outputs": [],
   "source": [
    "import numpy as np\n",
    "list_ = [ 1 , 2 , 3 , 4 , 5 ]\n",
    "array_list = np.array(object = list_)"
   ]
  },
  {
   "cell_type": "markdown",
   "id": "2aa46912-fecc-4b6e-bb46-0cbfd05dbc35",
   "metadata": {},
   "source": [
    "\n",
    "#### Q1. Is there any difference in the data type of variables list_ and array_list? If there is then write a code to print the data types of both the variables"
   ]
  },
  {
   "cell_type": "markdown",
   "id": "0a85abc6-2c62-4f9a-940e-1abdc2fd0393",
   "metadata": {},
   "source": [
    "In Python, both `list` and `array` are used to store collections of items, but they have some differences in terms of data types.\n",
    "\n",
    "A `list` is a built-in data type in Python that can hold elements of different data types. You can have a list with a mix of integers, strings, floats, and other data types. For example:\n",
    "\n",
    "``` python\n",
    "list_ = ['pwskill',1,6,3.5]\n",
    "```\n",
    "On the other hand, an `array` is typically associated with the `array` module in Python, which is not a built-in data type like lists. The `array` module allows you to create arrays of a specific data type. The data type is specified when creating the array. For example, you can create an array of integers like this:\n",
    "``` python\n",
    "import array\n",
    "my_array = array.array('i', [1, 2, 3, 4, 5])\n",
    "```\n",
    "\n",
    "In this example, the 'i' argument specifies that the array will store integers. The data type of the `my_array` variable is different from that of the `my_list` variable.\n",
    "\n",
    "To print the data types of both variables, you can use the `type()` function:\n",
    "\n",
    "``` python\n",
    "print(type(my_list))  # This will print <class 'list'>\n",
    "print(type(my_array)) # This will print <class 'array.array'>\n",
    "```\n",
    "\n",
    "So, to summarize, the data type of `list_` will be `<class 'list'>`, and the data type of `array_list` (assuming you created it with a specific data type) will be `<class 'array.array'>`, where `'array'` is the data type specified when creating the array."
   ]
  },
  {
   "cell_type": "markdown",
   "id": "90f08602-6b50-40a2-bd66-313da52eec6c",
   "metadata": {},
   "source": [
    "#### Q2. Write a code to print the data type of each and every element of both the variables list_ and arra_list."
   ]
  },
  {
   "cell_type": "code",
   "execution_count": 2,
   "id": "167c6c29-f34b-4f23-9f0a-219f5af656b4",
   "metadata": {},
   "outputs": [
    {
     "name": "stdout",
     "output_type": "stream",
     "text": [
      "Element: 1,   Data Type: <class 'int'>\n",
      "Element: pwskill,   Data Type: <class 'str'>\n",
      "Element: 6.7,   Data Type: <class 'float'>\n",
      "Element: king,   Data Type: <class 'str'>\n",
      "Element: 9,   Data Type: <class 'int'>\n",
      "Element: R,   Data Type: <class 'str'>\n"
     ]
    }
   ],
   "source": [
    "#list \n",
    "list_1 = [1,'pwskill',6.7,'king',9,'R']\n",
    "for i in list_1 :\n",
    "    print(f\"Element: {i},   Data Type: {type(i)}\")"
   ]
  },
  {
   "cell_type": "code",
   "execution_count": 3,
   "id": "d649d2ff-7ec5-458c-b4f8-f3a15f5fa318",
   "metadata": {},
   "outputs": [
    {
     "name": "stdout",
     "output_type": "stream",
     "text": [
      "Element: 1, Data Type:<class 'int'>\n",
      "Element: 2, Data Type:<class 'int'>\n",
      "Element: 3, Data Type:<class 'int'>\n",
      "Element: 4, Data Type:<class 'int'>\n",
      "Element: 5, Data Type:<class 'int'>\n"
     ]
    }
   ],
   "source": [
    "#Array \n",
    "import array as a\n",
    "array_list = a.array('i',[1,2,3,4,5])\n",
    "for idx in array_list:\n",
    "    print(f\"Element: {idx}, Data Type:{type(idx)}\")"
   ]
  },
  {
   "cell_type": "markdown",
   "id": "b98c04b0-f1e0-4391-bc48-5c2b63a91b08",
   "metadata": {
    "jp-MarkdownHeadingCollapsed": true,
    "tags": []
   },
   "source": [
    "Q3. Considering the following changes in the variable, array_list:\n",
    "\n",
    "array_list = np.array(object = list_, dtype = int)\n",
    "\n",
    "Will there be any difference in the data type of the elements present in both the variables,list_ and arra_list? If so then print the data types of each and every element present in both the variables, list_\n",
    "and arra_list.\n",
    "Consider the below code to answer further questions:\n",
    "\n",
    "``` python\n",
    "import numpy as np\n",
    "num_list = [ [ 1 , 2 , 3 ] , [ 4 , 5 , 7 ] ]\n",
    "num_array = np.array(object = num_list)\n",
    "```"
   ]
  },
  {
   "cell_type": "code",
   "execution_count": 5,
   "id": "8d89631a-519a-486f-8ff2-b53187cd898a",
   "metadata": {},
   "outputs": [],
   "source": [
    "import numpy as np\n",
    "num_list = [ [ 1 , 2 , 3 ] , [ 4 , 5 , 7 ] ]\n",
    "num_array = np.array(object = num_list)"
   ]
  },
  {
   "cell_type": "code",
   "execution_count": 6,
   "id": "7c80caeb-1d35-48b6-80ab-ff38981013c8",
   "metadata": {},
   "outputs": [
    {
     "name": "stdout",
     "output_type": "stream",
     "text": [
      "Element: 1 , DataType: <class 'int'> \n",
      "Element: 2 , DataType: <class 'int'> \n",
      "Element: 3 , DataType: <class 'int'> \n",
      "Element: 4 , DataType: <class 'int'> \n",
      "Element: 5 , DataType: <class 'int'> \n",
      "Element: 7 , DataType: <class 'int'> \n"
     ]
    }
   ],
   "source": [
    "for i in num_list:\n",
    "    for idx in i:\n",
    "        print(f'Element: {idx} , DataType: {type(idx)} ')"
   ]
  },
  {
   "cell_type": "code",
   "execution_count": 7,
   "id": "1200d533-6442-4b82-a1bc-027d3257b072",
   "metadata": {},
   "outputs": [
    {
     "name": "stdout",
     "output_type": "stream",
     "text": [
      "Element: 1 , DataType: <class 'int'> \n",
      "Element: 2 , DataType: <class 'int'> \n",
      "Element: 3 , DataType: <class 'int'> \n",
      "Element: 4 , DataType: <class 'int'> \n",
      "Element: 5 , DataType: <class 'int'> \n"
     ]
    }
   ],
   "source": [
    "for i in array_list:\n",
    "     print(f'Element: {i} , DataType: {type(i)} ')"
   ]
  },
  {
   "cell_type": "markdown",
   "id": "a2d2d5d1-c76d-4a1c-82b0-489ccda3e115",
   "metadata": {},
   "source": [
    "##### Q4. Write a code to find the following characteristics of variable, num_array:\n",
    "##### (i) shape\n",
    "##### (ii) size"
   ]
  },
  {
   "cell_type": "code",
   "execution_count": 8,
   "id": "5aa2ba84-6582-44c0-bb7d-b8643827f01e",
   "metadata": {},
   "outputs": [],
   "source": [
    "import numpy as np"
   ]
  },
  {
   "cell_type": "code",
   "execution_count": 9,
   "id": "046b431b-46be-4e5e-aca1-03bf9f20c4a3",
   "metadata": {},
   "outputs": [],
   "source": [
    "num_list =[[1,2,3],[4,5,6],[7,8,9]]"
   ]
  },
  {
   "cell_type": "code",
   "execution_count": 10,
   "id": "268f558e-d09d-4dc0-9820-2e4ea64a3332",
   "metadata": {},
   "outputs": [],
   "source": [
    "num_array = np.array(num_list)"
   ]
  },
  {
   "cell_type": "code",
   "execution_count": 11,
   "id": "852dc540-df70-444e-9926-1257a31ae1d5",
   "metadata": {},
   "outputs": [
    {
     "data": {
      "text/plain": [
       "(3, 3)"
      ]
     },
     "execution_count": 11,
     "metadata": {},
     "output_type": "execute_result"
    }
   ],
   "source": [
    "np.shape(num_list)   # list shape"
   ]
  },
  {
   "cell_type": "code",
   "execution_count": 12,
   "id": "18b6d50f-7ab1-4143-899f-e0d12bdeeb34",
   "metadata": {},
   "outputs": [
    {
     "data": {
      "text/plain": [
       "(3, 3)"
      ]
     },
     "execution_count": 12,
     "metadata": {},
     "output_type": "execute_result"
    }
   ],
   "source": [
    "np.shape(num_array) # numpy array shape"
   ]
  },
  {
   "cell_type": "code",
   "execution_count": 13,
   "id": "ecdea8e5-8ada-4d9c-b5a9-a17d2b931ca7",
   "metadata": {},
   "outputs": [
    {
     "data": {
      "text/plain": [
       "9"
      ]
     },
     "execution_count": 13,
     "metadata": {},
     "output_type": "execute_result"
    }
   ],
   "source": [
    "np.size(num_list) # list size"
   ]
  },
  {
   "cell_type": "code",
   "execution_count": 14,
   "id": "097bcdc1-4c7a-4e9f-a5e4-bfdf3cdc90a6",
   "metadata": {},
   "outputs": [
    {
     "data": {
      "text/plain": [
       "9"
      ]
     },
     "execution_count": 14,
     "metadata": {},
     "output_type": "execute_result"
    }
   ],
   "source": [
    "np.size(num_array) #array size"
   ]
  },
  {
   "cell_type": "markdown",
   "id": "d50ecc55-ad5e-4750-a32a-0d4f5be4142d",
   "metadata": {},
   "source": [
    "##### Q5. Write a code to create numpy array of 3*3 matrix containing zeros only, using a numpy array creation function."
   ]
  },
  {
   "cell_type": "code",
   "execution_count": 15,
   "id": "b7b73fd9-bd53-4035-8694-e37a7fa47763",
   "metadata": {},
   "outputs": [
    {
     "data": {
      "text/plain": [
       "array([[0., 0., 0.],\n",
       "       [0., 0., 0.],\n",
       "       [0., 0., 0.]])"
      ]
     },
     "execution_count": 15,
     "metadata": {},
     "output_type": "execute_result"
    }
   ],
   "source": [
    "np.zeros((3,3))"
   ]
  },
  {
   "cell_type": "markdown",
   "id": "1403205f-8995-4c93-831b-a3392529e77a",
   "metadata": {},
   "source": [
    "##### Q6. Create an identity matrix of shape (5,5) using numpy functions?\n"
   ]
  },
  {
   "cell_type": "code",
   "execution_count": 16,
   "id": "6b3dcb86-890b-4f73-a6e9-0789b89fb833",
   "metadata": {},
   "outputs": [],
   "source": [
    "inty = np.eye(5)"
   ]
  },
  {
   "cell_type": "code",
   "execution_count": 17,
   "id": "23fe3f0f-61a2-4680-a044-3c93d911b83a",
   "metadata": {},
   "outputs": [
    {
     "data": {
      "text/plain": [
       "array([[1., 0., 0., 0., 0.],\n",
       "       [0., 1., 0., 0., 0.],\n",
       "       [0., 0., 1., 0., 0.],\n",
       "       [0., 0., 0., 1., 0.],\n",
       "       [0., 0., 0., 0., 1.]])"
      ]
     },
     "execution_count": 17,
     "metadata": {},
     "output_type": "execute_result"
    }
   ],
   "source": [
    "inty"
   ]
  },
  {
   "cell_type": "code",
   "execution_count": null,
   "id": "b0a6aa3f-1965-4c32-aaa6-e094b8c61a14",
   "metadata": {},
   "outputs": [],
   "source": []
  }
 ],
 "metadata": {
  "kernelspec": {
   "display_name": "Python 3 (ipykernel)",
   "language": "python",
   "name": "python3"
  },
  "language_info": {
   "codemirror_mode": {
    "name": "ipython",
    "version": 3
   },
   "file_extension": ".py",
   "mimetype": "text/x-python",
   "name": "python",
   "nbconvert_exporter": "python",
   "pygments_lexer": "ipython3",
   "version": "3.10.6"
  }
 },
 "nbformat": 4,
 "nbformat_minor": 5
}
