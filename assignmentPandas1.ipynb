{
 "cells": [
  {
   "cell_type": "markdown",
   "id": "55dca7d1-4e1f-4e1f-b8f5-92909e6491cb",
   "metadata": {},
   "source": [
    "Q1. Create a Pandas Series that contains the following data: 4, 8, 15, 16, 23, and 42. Then, print the series."
   ]
  },
  {
   "cell_type": "code",
   "execution_count": 2,
   "id": "42f0401c-120c-4bc7-912f-72d18ba49528",
   "metadata": {},
   "outputs": [],
   "source": [
    "import pandas as pd"
   ]
  },
  {
   "cell_type": "code",
   "execution_count": 3,
   "id": "d6a55adb-3a0d-4c6c-b64d-4914c4ac207d",
   "metadata": {},
   "outputs": [],
   "source": [
    "data = [4,8,15,16,23]"
   ]
  },
  {
   "cell_type": "code",
   "execution_count": 4,
   "id": "6174a9f0-eacb-4c31-84e2-d32056939c47",
   "metadata": {},
   "outputs": [],
   "source": [
    "series = pd.Series(data)"
   ]
  },
  {
   "cell_type": "code",
   "execution_count": 6,
   "id": "ebcacec5-52a3-4c87-968b-4b7db7a26178",
   "metadata": {},
   "outputs": [
    {
     "name": "stdout",
     "output_type": "stream",
     "text": [
      "0     4\n",
      "1     8\n",
      "2    15\n",
      "3    16\n",
      "4    23\n",
      "dtype: int64\n"
     ]
    }
   ],
   "source": [
    "print(series)"
   ]
  },
  {
   "cell_type": "markdown",
   "id": "d483f764-3ad1-42d0-9c9c-30f7133b26b8",
   "metadata": {},
   "source": [
    "Q2. Create a variable of list type containing 10 elements in it, and apply pandas.Series function on the\n",
    "variable print it."
   ]
  },
  {
   "cell_type": "code",
   "execution_count": 7,
   "id": "df39a67d-f4ba-47b0-93fc-cb2b939aad73",
   "metadata": {},
   "outputs": [],
   "source": [
    "variable = [0,1,12,23,34,45,56,67,78,89]"
   ]
  },
  {
   "cell_type": "code",
   "execution_count": 9,
   "id": "426fb726-389c-4b59-8231-716e841c9407",
   "metadata": {},
   "outputs": [
    {
     "name": "stdout",
     "output_type": "stream",
     "text": [
      "0     0\n",
      "1     1\n",
      "2    12\n",
      "3    23\n",
      "4    34\n",
      "5    45\n",
      "6    56\n",
      "7    67\n",
      "8    78\n",
      "9    89\n",
      "dtype: int64\n"
     ]
    }
   ],
   "source": [
    "print(pd.Series(variable))"
   ]
  },
  {
   "cell_type": "raw",
   "id": "dde0c5fc-3bab-4c92-9e6e-bdf2748a01cc",
   "metadata": {},
   "source": [
    "Q3. Create a Pandas DataFrame that contains the following data:\n",
    "Name                    Age                               Gender\n",
    "Alice                    25                               Female\n",
    "Bob                      30                               Male\n",
    "Claire                   27                               Female\n",
    "Then, print the DataFrame."
   ]
  },
  {
   "cell_type": "code",
   "execution_count": 11,
   "id": "ee88567b-bcb4-40e4-85f3-a52e45328a8d",
   "metadata": {},
   "outputs": [],
   "source": [
    "data = {\"Name\":[\"Alice\",\"BOb\",\"Claira\"],\n",
    "        \"Age\":[25,30,27],\n",
    "        \"Gender\":[\"Female\",\"Male\",\"Female\"]}"
   ]
  },
  {
   "cell_type": "code",
   "execution_count": 17,
   "id": "86e73e17-f220-4da6-8a6f-ded0aac3a781",
   "metadata": {},
   "outputs": [
    {
     "name": "stdout",
     "output_type": "stream",
     "text": [
      "     Name  Age  Gender\n",
      "0   Alice   25  Female\n",
      "1     Bob   30    Male\n",
      "2  Claire   27  Female\n"
     ]
    }
   ],
   "source": [
    "df =  pd.DataFrame(data)\n",
    "\n",
    "print(df)"
   ]
  },
  {
   "cell_type": "markdown",
   "id": "6013f824-b986-432b-acb0-b3109341f62f",
   "metadata": {},
   "source": [
    "Q4. What is ‘DataFrame’ in pandas and how is it different from pandas.series? Explain with an example."
   ]
  },
  {
   "cell_type": "markdown",
   "id": "7b08432d-d2a8-4455-9e69-f4076600c610",
   "metadata": {},
   "source": [
    "In Pandas, a \"DataFrame\" is a two-dimensional, size-mutable, and heterogeneous tabular data structure. It is similar to a spreadsheet or a SQL table, where data is organized into rows and columns. Each column in a DataFrame can have a different data type, making it a versatile data structure for handling and analyzing structured data.\n",
    "\n",
    "On the other hand, a \"Series\" is a one-dimensional labeled array that can hold data of any type. It's similar to a column in a DataFrame or a single column of data in an Excel sheet. A Series has both data and associated labels (index) for each data point."
   ]
  },
  {
   "cell_type": "code",
   "execution_count": 29,
   "id": "897169de-69b8-461a-bc95-d3c174409fbc",
   "metadata": {},
   "outputs": [
    {
     "name": "stdout",
     "output_type": "stream",
     "text": [
      "DataFrame:\n",
      "  CompanyName     Name  Employee.Id  Gender\n",
      "0     pwSkill   Raadha           23  Female\n",
      "1  iNeuron.ai  Krishna           30    Male\n",
      "2      Google   Vikash           27  Female\n",
      "\n",
      "Series:\n",
      "0    25\n",
      "1    30\n",
      "2    27\n",
      "Name: Employee.Id, dtype: int64\n"
     ]
    }
   ],
   "source": [
    "# Creating a DataFrame\n",
    "data = {\n",
    "    'CompanyName': ['pwSkill', 'iNeuron.ai', 'Google'],\n",
    "    'Name':['Raadha','Krishna','Vikash'],\n",
    "    'Employee.Id': [23, 30, 27],\n",
    "    'Gender': ['Female', 'Male', 'Female']\n",
    "}\n",
    "df = pd.DataFrame(data)\n",
    "\n",
    "# Creating a Series\n",
    "emId = pd.Series([25, 30, 27], name='Employee.Id')\n",
    "\n",
    "print(\"DataFrame:\")\n",
    "print(df)\n",
    "print(\"\\nSeries:\")\n",
    "print(emId)"
   ]
  },
  {
   "cell_type": "markdown",
   "id": "a6adc71e-01de-4d5d-b914-5a3752d049a3",
   "metadata": {},
   "source": [
    "in above exemple DataFrame has multiple columns (Name,Age,and Gender),each column can have a differents data type. The Series on the other hand, represents a single column of data (Age) with its associated index"
   ]
  },
  {
   "cell_type": "markdown",
   "id": "225cdfda-18f6-43ac-aff3-8a7acabf8b75",
   "metadata": {},
   "source": [
    "Q5. What are some common functions you can use to manipulate data in a Pandas DataFrame? Can\n",
    "you give an example of when you might use one of these functions?"
   ]
  },
  {
   "cell_type": "markdown",
   "id": "cc113918-1f50-4507-b59b-d6e4f0e3b427",
   "metadata": {},
   "source": [
    "Pandas DataFrame are some common functions include:\n",
    "1. **Filtering Rows**: You can use functions like `df[df['column_name'] > value]` to filter rows based on specific conditions.\n",
    "\n",
    "2. **Sorting:** The `df.sort_values()` function `allows` you to sort the DataFrame based on one or more columns.\n",
    "\n",
    "3. **Grouping and Aggregation:** The `df.groupby()` function helps in grouping data based on specific columns, and you can then apply aggregation functions like `sum()`, `mean()`, etc., to the grouped data.\n",
    "\n",
    "4. **Adding and Removing Columns:** You can create new columns using simple arithmetic or operations between existing columns, or you can drop columns using the `df.drop()` function.\n",
    "\n",
    "5. **Handling Missing Values:** The `df.dropna()` and `df.fillna()` functions are used to drop or fill missing values in a DataFrame.\n",
    "\n",
    "6. **Merging and Joining:** Functions like `df.merge()` and `df.join()` are used to combine multiple DataFrames based on common keys or indices.\n",
    "\n",
    "7. **Applying Functions:** You can use the `df.apply()` function to apply a function to each element, row, or column of the DataFrame.\n",
    "\n",
    "8. **Pivoting and Reshaping:** The `df.pivot_table()` and `df.melt()` functions help in pivoting and reshaping data.\n",
    "\n",
    "9. **String Manipulation:** Pandas provides string manipulation functions through the `str` accessor, such as `str.contains()`, `str.replace()`, and more.\n",
    "\n",
    "10. **Plotting:** The `df.plot()` function allows you to create various types of plots directly from the DataFrame."
   ]
  },
  {
   "cell_type": "code",
   "execution_count": 30,
   "id": "3eabaea4-acea-4bab-acd3-efa3db72b3df",
   "metadata": {},
   "outputs": [
    {
     "name": "stdout",
     "output_type": "stream",
     "text": [
      "Filtered Ages of Females:\n",
      " 0    25\n",
      "2    27\n",
      "4    29\n",
      "Name: Age, dtype: int64\n",
      "\n",
      "Average Age by Gender:\n",
      " Gender\n",
      "Female    27.0\n",
      "Male      26.0\n",
      "Name: Age, dtype: float64\n",
      "\n",
      "Modified DataFrame:\n",
      "     Name   Age  Gender\n",
      "0  Alice  25.0  Female\n",
      "1    Bob  30.0    Male\n",
      "3  David  22.0    Male\n",
      "4  Emily  29.0  Female\n"
     ]
    }
   ],
   "source": [
    "\n",
    "import pandas as pd\n",
    "\n",
    "# Creating a sample DataFrame\n",
    "data = {\n",
    "    'Name': ['Alice', 'Bob', 'Claire', 'David', 'Emily'],\n",
    "    'Age': [25, 30, 27, 22, 29],\n",
    "    'Gender': ['Female', 'Male', 'Female', 'Male', 'Female']\n",
    "}\n",
    "df = pd.DataFrame(data)\n",
    "\n",
    "# Filtering rows\n",
    "female_ages = df[df['Gender'] == 'Female']['Age']\n",
    "\n",
    "# Grouping and Aggregation\n",
    "age_by_gender = df.groupby('Gender')['Age'].mean()\n",
    "\n",
    "# Adding a new column\n",
    "df['Age_2x'] = df['Age'] * 2\n",
    "\n",
    "# Removing a column\n",
    "df = df.drop('Age_2x', axis=1)\n",
    "\n",
    "# Handling missing values\n",
    "df.loc[2, 'Age'] = None\n",
    "df_cleaned = df.dropna()\n",
    "\n",
    "print(\"Filtered Ages of Females:\\n\", female_ages)\n",
    "print(\"\\nAverage Age by Gender:\\n\", age_by_gender)\n",
    "print(\"\\nModified DataFrame:\\n\", df_cleaned)\n"
   ]
  },
  {
   "cell_type": "markdown",
   "id": "efb7400a-2d25-4fbf-9dbe-274a09e153ab",
   "metadata": {},
   "source": [
    "Q6. Which of the following is mutable in nature Series, DataFrame, Panel?"
   ]
  },
  {
   "cell_type": "markdown",
   "id": "1d5e72f5-85ec-44ca-b879-31e6771dc8ff",
   "metadata": {},
   "source": [
    "Among the options you've provided, the **DataFrame** is mutable in nature. This means you can modify the contents of a DataFrame, including adding, updating, and deleting rows and columns after it's created.\n",
    "\n",
    "- **Series:** Series are one-dimensional and immutable, meaning once they are created, you can't change their elements. You would need to create a new Series if you want to modify the data.\n",
    "\n",
    "- **DataFrame:** DataFrames are two-dimensional and mutable. You can modify the contents, add or remove columns, change values, and perform various operations on the DataFrame after it's created.\n",
    "\n",
    "- **Panel:** Panels were part of earlier versions of Pandas but have been deprecated. They were three-dimensional structures to hold data. Since version 0.25.0, Panels are no longer part of the main Pandas library, and it's recommended to use multi-index DataFrames or other data structures for similar purposes."
   ]
  },
  {
   "cell_type": "markdown",
   "id": "4423565e-5db7-4d74-86ad-1bb1ba6f0aba",
   "metadata": {},
   "source": [
    "Q7. Create a DataFrame using multiple Series. Explain with an example."
   ]
  },
  {
   "cell_type": "code",
   "execution_count": 31,
   "id": "8e9bff92-f6c7-4b37-a6e1-1c2d548f9d6f",
   "metadata": {},
   "outputs": [
    {
     "name": "stdout",
     "output_type": "stream",
     "text": [
      "     Name  Age  Gender\n",
      "0   Alice   25  Female\n",
      "1     Bob   30    Male\n",
      "2  Claire   27  Female\n"
     ]
    }
   ],
   "source": [
    "import pandas as pd\n",
    "\n",
    "# Creating Series for different attributes\n",
    "names = pd.Series(['Alice', 'Bob', 'Claire'])\n",
    "ages = pd.Series([25, 30, 27])\n",
    "genders = pd.Series(['Female', 'Male', 'Female'])\n",
    "\n",
    "# Creating a DataFrame using the Series\n",
    "data = {\n",
    "    'Name': names,\n",
    "    'Age': ages,\n",
    "    'Gender': genders\n",
    "}\n",
    "df = pd.DataFrame(data)\n",
    "\n",
    "# Printing the DataFrame\n",
    "print(df)\n"
   ]
  },
  {
   "cell_type": "code",
   "execution_count": null,
   "id": "ae92aa2a-9ffe-406d-ab24-a29c6e5d8d3d",
   "metadata": {},
   "outputs": [],
   "source": []
  }
 ],
 "metadata": {
  "kernelspec": {
   "display_name": "Python 3 (ipykernel)",
   "language": "python",
   "name": "python3"
  },
  "language_info": {
   "codemirror_mode": {
    "name": "ipython",
    "version": 3
   },
   "file_extension": ".py",
   "mimetype": "text/x-python",
   "name": "python",
   "nbconvert_exporter": "python",
   "pygments_lexer": "ipython3",
   "version": "3.10.6"
  }
 },
 "nbformat": 4,
 "nbformat_minor": 5
}
